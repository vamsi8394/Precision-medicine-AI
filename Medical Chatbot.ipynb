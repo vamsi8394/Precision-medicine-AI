{
  "nbformat": 4,
  "nbformat_minor": 0,
  "metadata": {
    "colab": {
      "provenance": [],
      "gpuType": "T4",
      "authorship_tag": "ABX9TyOvEesOnKdH/87QRg6luDnV",
      "include_colab_link": true
    },
    "kernelspec": {
      "name": "python3",
      "display_name": "Python 3"
    },
    "language_info": {
      "name": "python"
    },
    "accelerator": "GPU"
  },
  "cells": [
    {
      "cell_type": "markdown",
      "metadata": {
        "id": "view-in-github",
        "colab_type": "text"
      },
      "source": [
        "<a href=\"https://colab.research.google.com/github/vamsi8394/Precision-medicine-AI/blob/main/Medical%20Chatbot.ipynb\" target=\"_parent\"><img src=\"https://colab.research.google.com/assets/colab-badge.svg\" alt=\"Open In Colab\"/></a>"
      ]
    },
    {
      "cell_type": "code",
      "source": [
        "import os\n",
        "from pathlib import Path\n",
        "from zipfile import ZipFile\n",
        "\n",
        "# Use a local directory instead of /content\n",
        "base_path = Path(\"my-medical-chatbot\")\n",
        "base_path.mkdir(exist_ok=True)\n",
        "\n",
        "# Subfolders\n",
        "(base_path / \"LLM_DB\").mkdir(exist_ok=True)\n",
        "(base_path / \"faiss_index\").mkdir(exist_ok=True)\n",
        "\n",
        "# Save full app.py code\n",
        "app_path = base_path / \"app.py\"\n",
        "app_path.write_text(\"# Full app.py will be pasted here.\\n\\nprint('Streamlit app placeholder')\")\n",
        "\n",
        "# .gitignore\n",
        "(base_path / \".gitignore\").write_text(\".env\\n__pycache__/\\n*.pyc\\nfaiss_index/\\nLLM_DB/\\n*.log\\n\")\n",
        "\n",
        "# requirements.txt\n",
        "(base_path / \"requirements.txt\").write_text(\n",
        "    \"streamlit\\npdfplumber\\nPyPDF2\\npython-dotenv\\nlangchain\\nlangchain-google-genai\\n\"\n",
        "    \"google-generativeai\\nfaiss-cpu\\n\"\n",
        ")\n",
        "\n",
        "# .env\n",
        "(base_path / \".env\").write_text(\"GOOGLE_API_KEY=your-key-here\\n\")\n",
        "\n",
        "# README.md\n",
        "(base_path / \"README.md\").write_text(\"\"\"# 🩺Medical Chatbot\n",
        "\n",
        "A Streamlit chatbot using LangChain, Gemini Pro, and FAISS to answer medical questions from uploaded PDFs.\n",
        "\n",
        "## 💻 Setup\n",
        "\n",
        "1. Clone the repo\n",
        "2. Create `.env` file with your Google API key\n",
        "3. Install dependencies\n",
        "4. Run the Streamlit app\n",
        "\"\"\")\n",
        "\n",
        "# Create ZIP\n",
        "zip_path = \"my-medical-chatbot.zip\"\n",
        "with ZipFile(zip_path, \"w\") as zipf:\n",
        "    for root, dirs, files in os.walk(base_path):\n",
        "        for file in files:\n",
        "            filepath = os.path.join(root, file)\n",
        "            zipf.write(filepath, os.path.relpath(filepath, \".\"))\n",
        "\n",
        "print(\"✅ Done! Ready to download.\")\n"
      ],
      "metadata": {
        "colab": {
          "base_uri": "https://localhost:8080/"
        },
        "id": "4JxnqjV-qAfA",
        "outputId": "d4b51d85-919b-4a2f-e177-dae70a7ddad1"
      },
      "execution_count": 7,
      "outputs": [
        {
          "output_type": "stream",
          "name": "stdout",
          "text": [
            "✅ Done! Ready to download.\n"
          ]
        }
      ]
    },
    {
      "cell_type": "code",
      "source": [
        "from google.colab import files\n",
        "files.download(\"my-medical-chatbot.zip\")\n"
      ],
      "metadata": {
        "colab": {
          "base_uri": "https://localhost:8080/",
          "height": 17
        },
        "id": "-vtD11tYqHSZ",
        "outputId": "f49bcfa4-db06-4ba8-c981-9d3f8d869059"
      },
      "execution_count": 8,
      "outputs": [
        {
          "output_type": "display_data",
          "data": {
            "text/plain": [
              "<IPython.core.display.Javascript object>"
            ],
            "application/javascript": [
              "\n",
              "    async function download(id, filename, size) {\n",
              "      if (!google.colab.kernel.accessAllowed) {\n",
              "        return;\n",
              "      }\n",
              "      const div = document.createElement('div');\n",
              "      const label = document.createElement('label');\n",
              "      label.textContent = `Downloading \"${filename}\": `;\n",
              "      div.appendChild(label);\n",
              "      const progress = document.createElement('progress');\n",
              "      progress.max = size;\n",
              "      div.appendChild(progress);\n",
              "      document.body.appendChild(div);\n",
              "\n",
              "      const buffers = [];\n",
              "      let downloaded = 0;\n",
              "\n",
              "      const channel = await google.colab.kernel.comms.open(id);\n",
              "      // Send a message to notify the kernel that we're ready.\n",
              "      channel.send({})\n",
              "\n",
              "      for await (const message of channel.messages) {\n",
              "        // Send a message to notify the kernel that we're ready.\n",
              "        channel.send({})\n",
              "        if (message.buffers) {\n",
              "          for (const buffer of message.buffers) {\n",
              "            buffers.push(buffer);\n",
              "            downloaded += buffer.byteLength;\n",
              "            progress.value = downloaded;\n",
              "          }\n",
              "        }\n",
              "      }\n",
              "      const blob = new Blob(buffers, {type: 'application/binary'});\n",
              "      const a = document.createElement('a');\n",
              "      a.href = window.URL.createObjectURL(blob);\n",
              "      a.download = filename;\n",
              "      div.appendChild(a);\n",
              "      a.click();\n",
              "      div.remove();\n",
              "    }\n",
              "  "
            ]
          },
          "metadata": {}
        },
        {
          "output_type": "display_data",
          "data": {
            "text/plain": [
              "<IPython.core.display.Javascript object>"
            ],
            "application/javascript": [
              "download(\"download_70b43013-01f3-49c3-9200-6c3768696963\", \"my-medical-chatbot.zip\", 1205)"
            ]
          },
          "metadata": {}
        }
      ]
    }
  ]
}